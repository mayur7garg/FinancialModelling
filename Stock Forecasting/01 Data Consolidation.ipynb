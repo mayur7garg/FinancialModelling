{
 "cells": [
  {
   "cell_type": "markdown",
   "metadata": {},
   "source": [
    "# 01 - Data Consolidation"
   ]
  },
  {
   "cell_type": "code",
   "execution_count": 1,
   "metadata": {},
   "outputs": [
    {
     "data": {
      "text/plain": [
       "'/usr/local/bin/python'"
      ]
     },
     "execution_count": 1,
     "metadata": {},
     "output_type": "execute_result"
    }
   ],
   "source": [
    "import sys\n",
    "sys.executable"
   ]
  },
  {
   "cell_type": "markdown",
   "metadata": {},
   "source": [
    "## Imports"
   ]
  },
  {
   "cell_type": "code",
   "execution_count": 2,
   "metadata": {},
   "outputs": [
    {
     "name": "stdout",
     "output_type": "stream",
     "text": [
      "NSE_DATA_DIR = PosixPath('../data/NSE') | Valid: True\n",
      "PROCESSED_DATA_DIR = PosixPath('../data/processed') | Valid: True\n"
     ]
    }
   ],
   "source": [
    "import constants as cnst\n",
    "import stock_utils as su"
   ]
  },
  {
   "cell_type": "markdown",
   "metadata": {},
   "source": [
    "## Consolidating historical stock data"
   ]
  },
  {
   "cell_type": "markdown",
   "metadata": {},
   "source": [
    "### All available symbols"
   ]
  },
  {
   "cell_type": "code",
   "execution_count": 3,
   "metadata": {},
   "outputs": [
    {
     "data": {
      "text/plain": [
       "['DEEPAKFERT', 'HDFCBANK', 'INDIGOPNTS', 'ITBEES', 'JUBLFOOD']"
      ]
     },
     "execution_count": 3,
     "metadata": {},
     "output_type": "execute_result"
    }
   ],
   "source": [
    "stock_symbols = su.get_all_stock_symbols(\n",
    "    cnst.NSE_DATA_DIR\n",
    ")\n",
    "\n",
    "stock_symbols"
   ]
  },
  {
   "cell_type": "markdown",
   "metadata": {},
   "source": [
    "### Consolidated data sample"
   ]
  },
  {
   "cell_type": "code",
   "execution_count": 4,
   "metadata": {},
   "outputs": [
    {
     "data": {
      "text/html": [
       "<div>\n",
       "<style scoped>\n",
       "    .dataframe tbody tr th:only-of-type {\n",
       "        vertical-align: middle;\n",
       "    }\n",
       "\n",
       "    .dataframe tbody tr th {\n",
       "        vertical-align: top;\n",
       "    }\n",
       "\n",
       "    .dataframe thead th {\n",
       "        text-align: right;\n",
       "    }\n",
       "</style>\n",
       "<table border=\"1\" class=\"dataframe\">\n",
       "  <thead>\n",
       "    <tr style=\"text-align: right;\">\n",
       "      <th></th>\n",
       "      <th>Date</th>\n",
       "      <th>series</th>\n",
       "      <th>OPEN</th>\n",
       "      <th>HIGH</th>\n",
       "      <th>LOW</th>\n",
       "      <th>PREV. CLOSE</th>\n",
       "      <th>ltp</th>\n",
       "      <th>close</th>\n",
       "      <th>vwap</th>\n",
       "      <th>52W H</th>\n",
       "      <th>52W L</th>\n",
       "      <th>VOLUME</th>\n",
       "      <th>VALUE</th>\n",
       "      <th>No of trades</th>\n",
       "    </tr>\n",
       "  </thead>\n",
       "  <tbody>\n",
       "    <tr>\n",
       "      <th>0</th>\n",
       "      <td>2020-01-01</td>\n",
       "      <td>EQ</td>\n",
       "      <td>97.20</td>\n",
       "      <td>97.85</td>\n",
       "      <td>96.30</td>\n",
       "      <td>97.20</td>\n",
       "      <td>96.60</td>\n",
       "      <td>96.75</td>\n",
       "      <td>96.95</td>\n",
       "      <td>169.0</td>\n",
       "      <td>76.20</td>\n",
       "      <td>153261</td>\n",
       "      <td>1.485918e+07</td>\n",
       "      <td>3161</td>\n",
       "    </tr>\n",
       "    <tr>\n",
       "      <th>1</th>\n",
       "      <td>2020-01-02</td>\n",
       "      <td>EQ</td>\n",
       "      <td>96.85</td>\n",
       "      <td>102.40</td>\n",
       "      <td>96.60</td>\n",
       "      <td>96.75</td>\n",
       "      <td>100.00</td>\n",
       "      <td>100.35</td>\n",
       "      <td>100.17</td>\n",
       "      <td>169.0</td>\n",
       "      <td>76.20</td>\n",
       "      <td>637039</td>\n",
       "      <td>6.381519e+07</td>\n",
       "      <td>7526</td>\n",
       "    </tr>\n",
       "    <tr>\n",
       "      <th>2</th>\n",
       "      <td>2020-01-03</td>\n",
       "      <td>EQ</td>\n",
       "      <td>99.70</td>\n",
       "      <td>104.80</td>\n",
       "      <td>99.00</td>\n",
       "      <td>100.35</td>\n",
       "      <td>101.20</td>\n",
       "      <td>100.75</td>\n",
       "      <td>101.90</td>\n",
       "      <td>169.0</td>\n",
       "      <td>76.20</td>\n",
       "      <td>562843</td>\n",
       "      <td>5.735485e+07</td>\n",
       "      <td>7402</td>\n",
       "    </tr>\n",
       "    <tr>\n",
       "      <th>3</th>\n",
       "      <td>2020-01-06</td>\n",
       "      <td>EQ</td>\n",
       "      <td>100.50</td>\n",
       "      <td>100.85</td>\n",
       "      <td>95.25</td>\n",
       "      <td>100.75</td>\n",
       "      <td>95.70</td>\n",
       "      <td>96.10</td>\n",
       "      <td>97.91</td>\n",
       "      <td>169.0</td>\n",
       "      <td>76.20</td>\n",
       "      <td>326011</td>\n",
       "      <td>3.192018e+07</td>\n",
       "      <td>5214</td>\n",
       "    </tr>\n",
       "    <tr>\n",
       "      <th>4</th>\n",
       "      <td>2020-01-07</td>\n",
       "      <td>EQ</td>\n",
       "      <td>97.35</td>\n",
       "      <td>101.00</td>\n",
       "      <td>97.10</td>\n",
       "      <td>96.10</td>\n",
       "      <td>99.95</td>\n",
       "      <td>100.40</td>\n",
       "      <td>99.09</td>\n",
       "      <td>169.0</td>\n",
       "      <td>76.20</td>\n",
       "      <td>307107</td>\n",
       "      <td>3.043237e+07</td>\n",
       "      <td>4983</td>\n",
       "    </tr>\n",
       "    <tr>\n",
       "      <th>...</th>\n",
       "      <td>...</td>\n",
       "      <td>...</td>\n",
       "      <td>...</td>\n",
       "      <td>...</td>\n",
       "      <td>...</td>\n",
       "      <td>...</td>\n",
       "      <td>...</td>\n",
       "      <td>...</td>\n",
       "      <td>...</td>\n",
       "      <td>...</td>\n",
       "      <td>...</td>\n",
       "      <td>...</td>\n",
       "      <td>...</td>\n",
       "      <td>...</td>\n",
       "    </tr>\n",
       "    <tr>\n",
       "      <th>976</th>\n",
       "      <td>2024-02-12</td>\n",
       "      <td>EQ</td>\n",
       "      <td>515.50</td>\n",
       "      <td>517.10</td>\n",
       "      <td>497.85</td>\n",
       "      <td>515.30</td>\n",
       "      <td>502.80</td>\n",
       "      <td>500.05</td>\n",
       "      <td>506.51</td>\n",
       "      <td>714.7</td>\n",
       "      <td>497.85</td>\n",
       "      <td>654659</td>\n",
       "      <td>3.315936e+08</td>\n",
       "      <td>26328</td>\n",
       "    </tr>\n",
       "    <tr>\n",
       "      <th>977</th>\n",
       "      <td>2024-02-13</td>\n",
       "      <td>EQ</td>\n",
       "      <td>500.10</td>\n",
       "      <td>503.80</td>\n",
       "      <td>483.35</td>\n",
       "      <td>500.05</td>\n",
       "      <td>498.95</td>\n",
       "      <td>495.05</td>\n",
       "      <td>493.89</td>\n",
       "      <td>714.7</td>\n",
       "      <td>483.35</td>\n",
       "      <td>827799</td>\n",
       "      <td>4.088438e+08</td>\n",
       "      <td>39023</td>\n",
       "    </tr>\n",
       "    <tr>\n",
       "      <th>978</th>\n",
       "      <td>2024-02-14</td>\n",
       "      <td>EQ</td>\n",
       "      <td>495.00</td>\n",
       "      <td>499.70</td>\n",
       "      <td>488.50</td>\n",
       "      <td>495.05</td>\n",
       "      <td>490.25</td>\n",
       "      <td>490.80</td>\n",
       "      <td>493.16</td>\n",
       "      <td>714.7</td>\n",
       "      <td>483.35</td>\n",
       "      <td>633883</td>\n",
       "      <td>3.126049e+08</td>\n",
       "      <td>31700</td>\n",
       "    </tr>\n",
       "    <tr>\n",
       "      <th>979</th>\n",
       "      <td>2024-02-15</td>\n",
       "      <td>EQ</td>\n",
       "      <td>493.50</td>\n",
       "      <td>515.30</td>\n",
       "      <td>491.95</td>\n",
       "      <td>490.80</td>\n",
       "      <td>508.10</td>\n",
       "      <td>507.90</td>\n",
       "      <td>508.02</td>\n",
       "      <td>714.7</td>\n",
       "      <td>483.35</td>\n",
       "      <td>995334</td>\n",
       "      <td>5.056480e+08</td>\n",
       "      <td>49286</td>\n",
       "    </tr>\n",
       "    <tr>\n",
       "      <th>980</th>\n",
       "      <td>2024-02-16</td>\n",
       "      <td>EQ</td>\n",
       "      <td>506.50</td>\n",
       "      <td>514.40</td>\n",
       "      <td>492.70</td>\n",
       "      <td>507.90</td>\n",
       "      <td>494.65</td>\n",
       "      <td>494.50</td>\n",
       "      <td>500.85</td>\n",
       "      <td>714.7</td>\n",
       "      <td>483.35</td>\n",
       "      <td>777790</td>\n",
       "      <td>3.895585e+08</td>\n",
       "      <td>29460</td>\n",
       "    </tr>\n",
       "  </tbody>\n",
       "</table>\n",
       "<p>981 rows × 14 columns</p>\n",
       "</div>"
      ],
      "text/plain": [
       "          Date series    OPEN    HIGH     LOW  PREV. CLOSE     ltp   close  \\\n",
       "0   2020-01-01     EQ   97.20   97.85   96.30        97.20   96.60   96.75   \n",
       "1   2020-01-02     EQ   96.85  102.40   96.60        96.75  100.00  100.35   \n",
       "2   2020-01-03     EQ   99.70  104.80   99.00       100.35  101.20  100.75   \n",
       "3   2020-01-06     EQ  100.50  100.85   95.25       100.75   95.70   96.10   \n",
       "4   2020-01-07     EQ   97.35  101.00   97.10        96.10   99.95  100.40   \n",
       "..         ...    ...     ...     ...     ...          ...     ...     ...   \n",
       "976 2024-02-12     EQ  515.50  517.10  497.85       515.30  502.80  500.05   \n",
       "977 2024-02-13     EQ  500.10  503.80  483.35       500.05  498.95  495.05   \n",
       "978 2024-02-14     EQ  495.00  499.70  488.50       495.05  490.25  490.80   \n",
       "979 2024-02-15     EQ  493.50  515.30  491.95       490.80  508.10  507.90   \n",
       "980 2024-02-16     EQ  506.50  514.40  492.70       507.90  494.65  494.50   \n",
       "\n",
       "       vwap  52W H   52W L  VOLUME         VALUE  No of trades  \n",
       "0     96.95  169.0   76.20  153261  1.485918e+07          3161  \n",
       "1    100.17  169.0   76.20  637039  6.381519e+07          7526  \n",
       "2    101.90  169.0   76.20  562843  5.735485e+07          7402  \n",
       "3     97.91  169.0   76.20  326011  3.192018e+07          5214  \n",
       "4     99.09  169.0   76.20  307107  3.043237e+07          4983  \n",
       "..      ...    ...     ...     ...           ...           ...  \n",
       "976  506.51  714.7  497.85  654659  3.315936e+08         26328  \n",
       "977  493.89  714.7  483.35  827799  4.088438e+08         39023  \n",
       "978  493.16  714.7  483.35  633883  3.126049e+08         31700  \n",
       "979  508.02  714.7  483.35  995334  5.056480e+08         49286  \n",
       "980  500.85  714.7  483.35  777790  3.895585e+08         29460  \n",
       "\n",
       "[981 rows x 14 columns]"
      ]
     },
     "execution_count": 4,
     "metadata": {},
     "output_type": "execute_result"
    }
   ],
   "source": [
    "su.get_consolidated_stock_data(stock_symbols[0], cnst.NSE_DATA_DIR)"
   ]
  },
  {
   "cell_type": "markdown",
   "metadata": {},
   "source": [
    "### Saving consolidated data for all symbols"
   ]
  },
  {
   "cell_type": "code",
   "execution_count": 5,
   "metadata": {},
   "outputs": [
    {
     "name": "stdout",
     "output_type": "stream",
     "text": [
      "DEEPAKFERT - 5 files\n",
      "\t981 records\n",
      "\t2020-01-01 to 2024-02-16\n",
      "\tSaved to '../data/NSE/DEEPAKFERT/consolidated.parquet'\n",
      "HDFCBANK - 5 files\n",
      "\t1025 records\n",
      "\t2020-01-01 to 2024-01-20\n",
      "\tSaved to '../data/NSE/HDFCBANK/consolidated.parquet'\n",
      "INDIGOPNTS - 4 files\n",
      "\t760 records\n",
      "\t2021-02-02 to 2024-02-23\n",
      "\tSaved to '../data/NSE/INDIGOPNTS/consolidated.parquet'\n",
      "ITBEES - 5 files\n",
      "\t887 records\n",
      "\t2020-07-01 to 2024-01-20\n",
      "\tSaved to '../data/NSE/ITBEES/consolidated.parquet'\n",
      "JUBLFOOD - 5 files\n",
      "\t1032 records\n",
      "\t2020-01-01 to 2024-02-02\n",
      "\tSaved to '../data/NSE/JUBLFOOD/consolidated.parquet'\n"
     ]
    }
   ],
   "source": [
    "su.consolidate_all_stock_data(cnst.NSE_DATA_DIR)"
   ]
  },
  {
   "cell_type": "code",
   "execution_count": null,
   "metadata": {},
   "outputs": [],
   "source": []
  }
 ],
 "metadata": {
  "kernelspec": {
   "display_name": "Python 3",
   "language": "python",
   "name": "python3"
  },
  "language_info": {
   "codemirror_mode": {
    "name": "ipython",
    "version": 3
   },
   "file_extension": ".py",
   "mimetype": "text/x-python",
   "name": "python",
   "nbconvert_exporter": "python",
   "pygments_lexer": "ipython3",
   "version": "3.11.6"
  }
 },
 "nbformat": 4,
 "nbformat_minor": 2
}
