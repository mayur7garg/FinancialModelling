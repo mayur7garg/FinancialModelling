{
 "cells": [
  {
   "cell_type": "markdown",
   "metadata": {},
   "source": [
    "# 01 - Data Consolidation"
   ]
  },
  {
   "cell_type": "code",
   "execution_count": 1,
   "metadata": {},
   "outputs": [
    {
     "data": {
      "text/plain": [
       "'/usr/local/bin/python'"
      ]
     },
     "execution_count": 1,
     "metadata": {},
     "output_type": "execute_result"
    }
   ],
   "source": [
    "import sys\n",
    "sys.executable"
   ]
  },
  {
   "cell_type": "markdown",
   "metadata": {},
   "source": [
    "## Imports"
   ]
  },
  {
   "cell_type": "code",
   "execution_count": 2,
   "metadata": {},
   "outputs": [
    {
     "name": "stdout",
     "output_type": "stream",
     "text": [
      "NSE_DATA_DIR = PosixPath('../data/NSE') | Valid: True\n",
      "PROCESSED_DATA_DIR = PosixPath('../data/processed') | Valid: True\n"
     ]
    }
   ],
   "source": [
    "import constants as cnst\n",
    "import stock_utils as su"
   ]
  },
  {
   "cell_type": "markdown",
   "metadata": {},
   "source": [
    "## Consolidating historical stock data"
   ]
  },
  {
   "cell_type": "markdown",
   "metadata": {},
   "source": [
    "### All available symbols"
   ]
  },
  {
   "cell_type": "code",
   "execution_count": 3,
   "metadata": {},
   "outputs": [
    {
     "data": {
      "text/plain": [
       "['HDFCBANK', 'ITBEES']"
      ]
     },
     "execution_count": 3,
     "metadata": {},
     "output_type": "execute_result"
    }
   ],
   "source": [
    "stock_symbols = su.get_all_stock_symbols(\n",
    "    cnst.NSE_DATA_DIR\n",
    ")\n",
    "\n",
    "stock_symbols"
   ]
  },
  {
   "cell_type": "markdown",
   "metadata": {},
   "source": [
    "### Consolidated data sample"
   ]
  },
  {
   "cell_type": "code",
   "execution_count": 4,
   "metadata": {},
   "outputs": [
    {
     "data": {
      "text/html": [
       "<div>\n",
       "<style scoped>\n",
       "    .dataframe tbody tr th:only-of-type {\n",
       "        vertical-align: middle;\n",
       "    }\n",
       "\n",
       "    .dataframe tbody tr th {\n",
       "        vertical-align: top;\n",
       "    }\n",
       "\n",
       "    .dataframe thead th {\n",
       "        text-align: right;\n",
       "    }\n",
       "</style>\n",
       "<table border=\"1\" class=\"dataframe\">\n",
       "  <thead>\n",
       "    <tr style=\"text-align: right;\">\n",
       "      <th></th>\n",
       "      <th>Date</th>\n",
       "      <th>series</th>\n",
       "      <th>OPEN</th>\n",
       "      <th>HIGH</th>\n",
       "      <th>LOW</th>\n",
       "      <th>PREV. CLOSE</th>\n",
       "      <th>ltp</th>\n",
       "      <th>close</th>\n",
       "      <th>vwap</th>\n",
       "      <th>52W H</th>\n",
       "      <th>52W L</th>\n",
       "      <th>VOLUME</th>\n",
       "      <th>VALUE</th>\n",
       "      <th>No of trades</th>\n",
       "    </tr>\n",
       "  </thead>\n",
       "  <tbody>\n",
       "    <tr>\n",
       "      <th>0</th>\n",
       "      <td>2020-01-01</td>\n",
       "      <td>EQ</td>\n",
       "      <td>1276.10</td>\n",
       "      <td>1280.00</td>\n",
       "      <td>1270.60</td>\n",
       "      <td>1272.10</td>\n",
       "      <td>1279.00</td>\n",
       "      <td>1278.60</td>\n",
       "      <td>1276.64</td>\n",
       "      <td>2503.3</td>\n",
       "      <td>1084.00</td>\n",
       "      <td>1836849</td>\n",
       "      <td>2.345001e+09</td>\n",
       "      <td>46625</td>\n",
       "    </tr>\n",
       "    <tr>\n",
       "      <th>1</th>\n",
       "      <td>2020-01-02</td>\n",
       "      <td>EQ</td>\n",
       "      <td>1279.00</td>\n",
       "      <td>1288.00</td>\n",
       "      <td>1279.00</td>\n",
       "      <td>1278.60</td>\n",
       "      <td>1286.00</td>\n",
       "      <td>1286.75</td>\n",
       "      <td>1284.56</td>\n",
       "      <td>2503.3</td>\n",
       "      <td>1084.00</td>\n",
       "      <td>3068583</td>\n",
       "      <td>3.941792e+09</td>\n",
       "      <td>104570</td>\n",
       "    </tr>\n",
       "    <tr>\n",
       "      <th>2</th>\n",
       "      <td>2020-01-03</td>\n",
       "      <td>EQ</td>\n",
       "      <td>1282.20</td>\n",
       "      <td>1285.00</td>\n",
       "      <td>1263.60</td>\n",
       "      <td>1286.75</td>\n",
       "      <td>1268.50</td>\n",
       "      <td>1268.40</td>\n",
       "      <td>1270.48</td>\n",
       "      <td>2503.3</td>\n",
       "      <td>1084.00</td>\n",
       "      <td>5427775</td>\n",
       "      <td>6.895886e+09</td>\n",
       "      <td>157066</td>\n",
       "    </tr>\n",
       "    <tr>\n",
       "      <th>3</th>\n",
       "      <td>2020-01-06</td>\n",
       "      <td>EQ</td>\n",
       "      <td>1260.00</td>\n",
       "      <td>1261.80</td>\n",
       "      <td>1236.00</td>\n",
       "      <td>1268.40</td>\n",
       "      <td>1240.25</td>\n",
       "      <td>1240.95</td>\n",
       "      <td>1247.24</td>\n",
       "      <td>2503.3</td>\n",
       "      <td>1084.00</td>\n",
       "      <td>5445093</td>\n",
       "      <td>6.791348e+09</td>\n",
       "      <td>155007</td>\n",
       "    </tr>\n",
       "    <tr>\n",
       "      <th>4</th>\n",
       "      <td>2020-01-07</td>\n",
       "      <td>EQ</td>\n",
       "      <td>1258.90</td>\n",
       "      <td>1271.45</td>\n",
       "      <td>1252.25</td>\n",
       "      <td>1240.95</td>\n",
       "      <td>1261.00</td>\n",
       "      <td>1260.60</td>\n",
       "      <td>1261.48</td>\n",
       "      <td>2503.3</td>\n",
       "      <td>1084.00</td>\n",
       "      <td>7362247</td>\n",
       "      <td>9.287302e+09</td>\n",
       "      <td>189026</td>\n",
       "    </tr>\n",
       "    <tr>\n",
       "      <th>...</th>\n",
       "      <td>...</td>\n",
       "      <td>...</td>\n",
       "      <td>...</td>\n",
       "      <td>...</td>\n",
       "      <td>...</td>\n",
       "      <td>...</td>\n",
       "      <td>...</td>\n",
       "      <td>...</td>\n",
       "      <td>...</td>\n",
       "      <td>...</td>\n",
       "      <td>...</td>\n",
       "      <td>...</td>\n",
       "      <td>...</td>\n",
       "      <td>...</td>\n",
       "    </tr>\n",
       "    <tr>\n",
       "      <th>1020</th>\n",
       "      <td>2024-01-16</td>\n",
       "      <td>EQ</td>\n",
       "      <td>1673.00</td>\n",
       "      <td>1683.65</td>\n",
       "      <td>1658.10</td>\n",
       "      <td>1672.80</td>\n",
       "      <td>1678.00</td>\n",
       "      <td>1679.15</td>\n",
       "      <td>1672.44</td>\n",
       "      <td>1757.5</td>\n",
       "      <td>1460.25</td>\n",
       "      <td>12661250</td>\n",
       "      <td>2.117514e+10</td>\n",
       "      <td>347404</td>\n",
       "    </tr>\n",
       "    <tr>\n",
       "      <th>1021</th>\n",
       "      <td>2024-01-17</td>\n",
       "      <td>EQ</td>\n",
       "      <td>1570.00</td>\n",
       "      <td>1596.80</td>\n",
       "      <td>1528.40</td>\n",
       "      <td>1679.15</td>\n",
       "      <td>1542.15</td>\n",
       "      <td>1537.50</td>\n",
       "      <td>1565.65</td>\n",
       "      <td>1757.5</td>\n",
       "      <td>1460.25</td>\n",
       "      <td>85072618</td>\n",
       "      <td>1.331936e+11</td>\n",
       "      <td>2098772</td>\n",
       "    </tr>\n",
       "    <tr>\n",
       "      <th>1022</th>\n",
       "      <td>2024-01-18</td>\n",
       "      <td>EQ</td>\n",
       "      <td>1494.00</td>\n",
       "      <td>1515.00</td>\n",
       "      <td>1480.05</td>\n",
       "      <td>1537.50</td>\n",
       "      <td>1490.00</td>\n",
       "      <td>1486.15</td>\n",
       "      <td>1495.03</td>\n",
       "      <td>1757.5</td>\n",
       "      <td>1460.25</td>\n",
       "      <td>80535465</td>\n",
       "      <td>1.204027e+11</td>\n",
       "      <td>1582497</td>\n",
       "    </tr>\n",
       "    <tr>\n",
       "      <th>1023</th>\n",
       "      <td>2024-01-19</td>\n",
       "      <td>EQ</td>\n",
       "      <td>1505.95</td>\n",
       "      <td>1510.25</td>\n",
       "      <td>1468.40</td>\n",
       "      <td>1486.15</td>\n",
       "      <td>1474.90</td>\n",
       "      <td>1470.65</td>\n",
       "      <td>1483.88</td>\n",
       "      <td>1757.5</td>\n",
       "      <td>1460.25</td>\n",
       "      <td>54800269</td>\n",
       "      <td>8.131686e+10</td>\n",
       "      <td>1275220</td>\n",
       "    </tr>\n",
       "    <tr>\n",
       "      <th>1024</th>\n",
       "      <td>2024-01-20</td>\n",
       "      <td>EQ</td>\n",
       "      <td>1483.20</td>\n",
       "      <td>1495.70</td>\n",
       "      <td>1476.00</td>\n",
       "      <td>1470.65</td>\n",
       "      <td>1480.65</td>\n",
       "      <td>1478.85</td>\n",
       "      <td>1483.92</td>\n",
       "      <td>1757.5</td>\n",
       "      <td>1460.25</td>\n",
       "      <td>12920293</td>\n",
       "      <td>1.917264e+10</td>\n",
       "      <td>403196</td>\n",
       "    </tr>\n",
       "  </tbody>\n",
       "</table>\n",
       "<p>1025 rows × 14 columns</p>\n",
       "</div>"
      ],
      "text/plain": [
       "           Date series     OPEN     HIGH      LOW  PREV. CLOSE      ltp  \\\n",
       "0    2020-01-01     EQ  1276.10  1280.00  1270.60      1272.10  1279.00   \n",
       "1    2020-01-02     EQ  1279.00  1288.00  1279.00      1278.60  1286.00   \n",
       "2    2020-01-03     EQ  1282.20  1285.00  1263.60      1286.75  1268.50   \n",
       "3    2020-01-06     EQ  1260.00  1261.80  1236.00      1268.40  1240.25   \n",
       "4    2020-01-07     EQ  1258.90  1271.45  1252.25      1240.95  1261.00   \n",
       "...         ...    ...      ...      ...      ...          ...      ...   \n",
       "1020 2024-01-16     EQ  1673.00  1683.65  1658.10      1672.80  1678.00   \n",
       "1021 2024-01-17     EQ  1570.00  1596.80  1528.40      1679.15  1542.15   \n",
       "1022 2024-01-18     EQ  1494.00  1515.00  1480.05      1537.50  1490.00   \n",
       "1023 2024-01-19     EQ  1505.95  1510.25  1468.40      1486.15  1474.90   \n",
       "1024 2024-01-20     EQ  1483.20  1495.70  1476.00      1470.65  1480.65   \n",
       "\n",
       "        close     vwap   52W H    52W L    VOLUME         VALUE  No of trades  \n",
       "0     1278.60  1276.64  2503.3  1084.00   1836849  2.345001e+09         46625  \n",
       "1     1286.75  1284.56  2503.3  1084.00   3068583  3.941792e+09        104570  \n",
       "2     1268.40  1270.48  2503.3  1084.00   5427775  6.895886e+09        157066  \n",
       "3     1240.95  1247.24  2503.3  1084.00   5445093  6.791348e+09        155007  \n",
       "4     1260.60  1261.48  2503.3  1084.00   7362247  9.287302e+09        189026  \n",
       "...       ...      ...     ...      ...       ...           ...           ...  \n",
       "1020  1679.15  1672.44  1757.5  1460.25  12661250  2.117514e+10        347404  \n",
       "1021  1537.50  1565.65  1757.5  1460.25  85072618  1.331936e+11       2098772  \n",
       "1022  1486.15  1495.03  1757.5  1460.25  80535465  1.204027e+11       1582497  \n",
       "1023  1470.65  1483.88  1757.5  1460.25  54800269  8.131686e+10       1275220  \n",
       "1024  1478.85  1483.92  1757.5  1460.25  12920293  1.917264e+10        403196  \n",
       "\n",
       "[1025 rows x 14 columns]"
      ]
     },
     "execution_count": 4,
     "metadata": {},
     "output_type": "execute_result"
    }
   ],
   "source": [
    "su.get_consolidated_stock_data(stock_symbols[0], cnst.NSE_DATA_DIR)"
   ]
  },
  {
   "cell_type": "markdown",
   "metadata": {},
   "source": [
    "### Saving consolidated data for all symbols"
   ]
  },
  {
   "cell_type": "code",
   "execution_count": 5,
   "metadata": {},
   "outputs": [
    {
     "name": "stdout",
     "output_type": "stream",
     "text": [
      "HDFCBANK - 5 files\n",
      "\t1025 records\n",
      "\t2020-01-01 to 2024-01-20\n",
      "\tSaved to '../data/NSE/HDFCBANK/consolidated.parquet'\n",
      "ITBEES - 5 files\n",
      "\t887 records\n",
      "\t2020-07-01 to 2024-01-20\n",
      "\tSaved to '../data/NSE/ITBEES/consolidated.parquet'\n"
     ]
    }
   ],
   "source": [
    "su.consolidate_all_stock_data(cnst.NSE_DATA_DIR)"
   ]
  },
  {
   "cell_type": "code",
   "execution_count": null,
   "metadata": {},
   "outputs": [],
   "source": []
  }
 ],
 "metadata": {
  "kernelspec": {
   "display_name": "Python 3",
   "language": "python",
   "name": "python3"
  },
  "language_info": {
   "codemirror_mode": {
    "name": "ipython",
    "version": 3
   },
   "file_extension": ".py",
   "mimetype": "text/x-python",
   "name": "python",
   "nbconvert_exporter": "python",
   "pygments_lexer": "ipython3",
   "version": "3.11.6"
  }
 },
 "nbformat": 4,
 "nbformat_minor": 2
}
