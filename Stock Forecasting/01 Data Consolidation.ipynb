{
 "cells": [
  {
   "cell_type": "markdown",
   "metadata": {},
   "source": [
    "# 01 - Data Consolidation"
   ]
  },
  {
   "cell_type": "code",
   "execution_count": 1,
   "metadata": {},
   "outputs": [
    {
     "data": {
      "text/plain": [
       "'/usr/local/bin/python'"
      ]
     },
     "execution_count": 1,
     "metadata": {},
     "output_type": "execute_result"
    }
   ],
   "source": [
    "import sys\n",
    "sys.executable"
   ]
  },
  {
   "cell_type": "markdown",
   "metadata": {},
   "source": [
    "## Imports"
   ]
  },
  {
   "cell_type": "code",
   "execution_count": 2,
   "metadata": {},
   "outputs": [
    {
     "name": "stdout",
     "output_type": "stream",
     "text": [
      "NSE_DATA_DIR = PosixPath('../data/NSE') | Valid: True\n"
     ]
    }
   ],
   "source": [
    "import constants as cnst\n",
    "import stock_utils as su"
   ]
  },
  {
   "cell_type": "markdown",
   "metadata": {},
   "source": [
    "## Consolidating historical stock data"
   ]
  },
  {
   "cell_type": "markdown",
   "metadata": {},
   "source": [
    "### All available symbols"
   ]
  },
  {
   "cell_type": "code",
   "execution_count": 3,
   "metadata": {},
   "outputs": [
    {
     "data": {
      "text/plain": [
       "['HDFCBANK', 'ITBEES']"
      ]
     },
     "execution_count": 3,
     "metadata": {},
     "output_type": "execute_result"
    }
   ],
   "source": [
    "stock_symbols = su.get_all_stock_symbols(\n",
    "    cnst.NSE_DATA_DIR\n",
    ")\n",
    "\n",
    "stock_symbols"
   ]
  },
  {
   "cell_type": "markdown",
   "metadata": {},
   "source": [
    "### Consolidated data sample"
   ]
  },
  {
   "cell_type": "code",
   "execution_count": 4,
   "metadata": {},
   "outputs": [
    {
     "data": {
      "text/html": [
       "<div>\n",
       "<style scoped>\n",
       "    .dataframe tbody tr th:only-of-type {\n",
       "        vertical-align: middle;\n",
       "    }\n",
       "\n",
       "    .dataframe tbody tr th {\n",
       "        vertical-align: top;\n",
       "    }\n",
       "\n",
       "    .dataframe thead th {\n",
       "        text-align: right;\n",
       "    }\n",
       "</style>\n",
       "<table border=\"1\" class=\"dataframe\">\n",
       "  <thead>\n",
       "    <tr style=\"text-align: right;\">\n",
       "      <th></th>\n",
       "      <th>Date</th>\n",
       "      <th>series</th>\n",
       "      <th>OPEN</th>\n",
       "      <th>HIGH</th>\n",
       "      <th>LOW</th>\n",
       "      <th>PREV. CLOSE</th>\n",
       "      <th>ltp</th>\n",
       "      <th>close</th>\n",
       "      <th>vwap</th>\n",
       "      <th>52W H</th>\n",
       "      <th>52W L</th>\n",
       "      <th>VOLUME</th>\n",
       "      <th>VALUE</th>\n",
       "      <th>No of trades</th>\n",
       "    </tr>\n",
       "  </thead>\n",
       "  <tbody>\n",
       "    <tr>\n",
       "      <th>0</th>\n",
       "      <td>2020-01-01</td>\n",
       "      <td>EQ</td>\n",
       "      <td>1276.10</td>\n",
       "      <td>1280.00</td>\n",
       "      <td>1270.60</td>\n",
       "      <td>1272.10</td>\n",
       "      <td>1279.00</td>\n",
       "      <td>1278.60</td>\n",
       "      <td>1276.64</td>\n",
       "      <td>2503.3</td>\n",
       "      <td>1084.00</td>\n",
       "      <td>1836849</td>\n",
       "      <td>2.345001e+09</td>\n",
       "      <td>46625</td>\n",
       "    </tr>\n",
       "    <tr>\n",
       "      <th>1</th>\n",
       "      <td>2020-01-02</td>\n",
       "      <td>EQ</td>\n",
       "      <td>1279.00</td>\n",
       "      <td>1288.00</td>\n",
       "      <td>1279.00</td>\n",
       "      <td>1278.60</td>\n",
       "      <td>1286.00</td>\n",
       "      <td>1286.75</td>\n",
       "      <td>1284.56</td>\n",
       "      <td>2503.3</td>\n",
       "      <td>1084.00</td>\n",
       "      <td>3068583</td>\n",
       "      <td>3.941792e+09</td>\n",
       "      <td>104570</td>\n",
       "    </tr>\n",
       "    <tr>\n",
       "      <th>2</th>\n",
       "      <td>2020-01-03</td>\n",
       "      <td>EQ</td>\n",
       "      <td>1282.20</td>\n",
       "      <td>1285.00</td>\n",
       "      <td>1263.60</td>\n",
       "      <td>1286.75</td>\n",
       "      <td>1268.50</td>\n",
       "      <td>1268.40</td>\n",
       "      <td>1270.48</td>\n",
       "      <td>2503.3</td>\n",
       "      <td>1084.00</td>\n",
       "      <td>5427775</td>\n",
       "      <td>6.895886e+09</td>\n",
       "      <td>157066</td>\n",
       "    </tr>\n",
       "    <tr>\n",
       "      <th>3</th>\n",
       "      <td>2020-01-06</td>\n",
       "      <td>EQ</td>\n",
       "      <td>1260.00</td>\n",
       "      <td>1261.80</td>\n",
       "      <td>1236.00</td>\n",
       "      <td>1268.40</td>\n",
       "      <td>1240.25</td>\n",
       "      <td>1240.95</td>\n",
       "      <td>1247.24</td>\n",
       "      <td>2503.3</td>\n",
       "      <td>1084.00</td>\n",
       "      <td>5445093</td>\n",
       "      <td>6.791348e+09</td>\n",
       "      <td>155007</td>\n",
       "    </tr>\n",
       "    <tr>\n",
       "      <th>4</th>\n",
       "      <td>2020-01-07</td>\n",
       "      <td>EQ</td>\n",
       "      <td>1258.90</td>\n",
       "      <td>1271.45</td>\n",
       "      <td>1252.25</td>\n",
       "      <td>1240.95</td>\n",
       "      <td>1261.00</td>\n",
       "      <td>1260.60</td>\n",
       "      <td>1261.48</td>\n",
       "      <td>2503.3</td>\n",
       "      <td>1084.00</td>\n",
       "      <td>7362247</td>\n",
       "      <td>9.287302e+09</td>\n",
       "      <td>189026</td>\n",
       "    </tr>\n",
       "    <tr>\n",
       "      <th>...</th>\n",
       "      <td>...</td>\n",
       "      <td>...</td>\n",
       "      <td>...</td>\n",
       "      <td>...</td>\n",
       "      <td>...</td>\n",
       "      <td>...</td>\n",
       "      <td>...</td>\n",
       "      <td>...</td>\n",
       "      <td>...</td>\n",
       "      <td>...</td>\n",
       "      <td>...</td>\n",
       "      <td>...</td>\n",
       "      <td>...</td>\n",
       "      <td>...</td>\n",
       "    </tr>\n",
       "    <tr>\n",
       "      <th>1004</th>\n",
       "      <td>2023-12-22</td>\n",
       "      <td>EQ</td>\n",
       "      <td>1683.60</td>\n",
       "      <td>1685.90</td>\n",
       "      <td>1667.10</td>\n",
       "      <td>1686.70</td>\n",
       "      <td>1668.70</td>\n",
       "      <td>1670.85</td>\n",
       "      <td>1675.74</td>\n",
       "      <td>1757.5</td>\n",
       "      <td>1460.25</td>\n",
       "      <td>24289425</td>\n",
       "      <td>4.070271e+10</td>\n",
       "      <td>450284</td>\n",
       "    </tr>\n",
       "    <tr>\n",
       "      <th>1005</th>\n",
       "      <td>2023-12-26</td>\n",
       "      <td>EQ</td>\n",
       "      <td>1673.25</td>\n",
       "      <td>1685.95</td>\n",
       "      <td>1668.55</td>\n",
       "      <td>1670.85</td>\n",
       "      <td>1684.10</td>\n",
       "      <td>1682.45</td>\n",
       "      <td>1678.46</td>\n",
       "      <td>1757.5</td>\n",
       "      <td>1460.25</td>\n",
       "      <td>9022928</td>\n",
       "      <td>1.514458e+10</td>\n",
       "      <td>243596</td>\n",
       "    </tr>\n",
       "    <tr>\n",
       "      <th>1006</th>\n",
       "      <td>2023-12-27</td>\n",
       "      <td>EQ</td>\n",
       "      <td>1681.50</td>\n",
       "      <td>1706.50</td>\n",
       "      <td>1678.60</td>\n",
       "      <td>1682.45</td>\n",
       "      <td>1702.10</td>\n",
       "      <td>1703.30</td>\n",
       "      <td>1695.87</td>\n",
       "      <td>1757.5</td>\n",
       "      <td>1460.25</td>\n",
       "      <td>13504539</td>\n",
       "      <td>2.290188e+10</td>\n",
       "      <td>321373</td>\n",
       "    </tr>\n",
       "    <tr>\n",
       "      <th>1007</th>\n",
       "      <td>2023-12-28</td>\n",
       "      <td>EQ</td>\n",
       "      <td>1709.30</td>\n",
       "      <td>1721.40</td>\n",
       "      <td>1702.00</td>\n",
       "      <td>1703.30</td>\n",
       "      <td>1708.85</td>\n",
       "      <td>1705.25</td>\n",
       "      <td>1711.26</td>\n",
       "      <td>1757.5</td>\n",
       "      <td>1460.25</td>\n",
       "      <td>22038235</td>\n",
       "      <td>3.771305e+10</td>\n",
       "      <td>423062</td>\n",
       "    </tr>\n",
       "    <tr>\n",
       "      <th>1008</th>\n",
       "      <td>2023-12-29</td>\n",
       "      <td>EQ</td>\n",
       "      <td>1697.00</td>\n",
       "      <td>1714.90</td>\n",
       "      <td>1696.00</td>\n",
       "      <td>1705.25</td>\n",
       "      <td>1708.65</td>\n",
       "      <td>1709.25</td>\n",
       "      <td>1707.51</td>\n",
       "      <td>1757.5</td>\n",
       "      <td>1460.25</td>\n",
       "      <td>12505713</td>\n",
       "      <td>2.135365e+10</td>\n",
       "      <td>264143</td>\n",
       "    </tr>\n",
       "  </tbody>\n",
       "</table>\n",
       "<p>1009 rows × 14 columns</p>\n",
       "</div>"
      ],
      "text/plain": [
       "           Date series     OPEN     HIGH      LOW  PREV. CLOSE      ltp  \\\n",
       "0    2020-01-01     EQ  1276.10  1280.00  1270.60      1272.10  1279.00   \n",
       "1    2020-01-02     EQ  1279.00  1288.00  1279.00      1278.60  1286.00   \n",
       "2    2020-01-03     EQ  1282.20  1285.00  1263.60      1286.75  1268.50   \n",
       "3    2020-01-06     EQ  1260.00  1261.80  1236.00      1268.40  1240.25   \n",
       "4    2020-01-07     EQ  1258.90  1271.45  1252.25      1240.95  1261.00   \n",
       "...         ...    ...      ...      ...      ...          ...      ...   \n",
       "1004 2023-12-22     EQ  1683.60  1685.90  1667.10      1686.70  1668.70   \n",
       "1005 2023-12-26     EQ  1673.25  1685.95  1668.55      1670.85  1684.10   \n",
       "1006 2023-12-27     EQ  1681.50  1706.50  1678.60      1682.45  1702.10   \n",
       "1007 2023-12-28     EQ  1709.30  1721.40  1702.00      1703.30  1708.85   \n",
       "1008 2023-12-29     EQ  1697.00  1714.90  1696.00      1705.25  1708.65   \n",
       "\n",
       "        close     vwap   52W H    52W L    VOLUME         VALUE  No of trades  \n",
       "0     1278.60  1276.64  2503.3  1084.00   1836849  2.345001e+09         46625  \n",
       "1     1286.75  1284.56  2503.3  1084.00   3068583  3.941792e+09        104570  \n",
       "2     1268.40  1270.48  2503.3  1084.00   5427775  6.895886e+09        157066  \n",
       "3     1240.95  1247.24  2503.3  1084.00   5445093  6.791348e+09        155007  \n",
       "4     1260.60  1261.48  2503.3  1084.00   7362247  9.287302e+09        189026  \n",
       "...       ...      ...     ...      ...       ...           ...           ...  \n",
       "1004  1670.85  1675.74  1757.5  1460.25  24289425  4.070271e+10        450284  \n",
       "1005  1682.45  1678.46  1757.5  1460.25   9022928  1.514458e+10        243596  \n",
       "1006  1703.30  1695.87  1757.5  1460.25  13504539  2.290188e+10        321373  \n",
       "1007  1705.25  1711.26  1757.5  1460.25  22038235  3.771305e+10        423062  \n",
       "1008  1709.25  1707.51  1757.5  1460.25  12505713  2.135365e+10        264143  \n",
       "\n",
       "[1009 rows x 14 columns]"
      ]
     },
     "execution_count": 4,
     "metadata": {},
     "output_type": "execute_result"
    }
   ],
   "source": [
    "su.get_consolidated_stock_data(stock_symbols[0], cnst.NSE_DATA_DIR)"
   ]
  },
  {
   "cell_type": "markdown",
   "metadata": {},
   "source": [
    "### Saving consolidated data for all symbols"
   ]
  },
  {
   "cell_type": "code",
   "execution_count": 5,
   "metadata": {},
   "outputs": [
    {
     "name": "stdout",
     "output_type": "stream",
     "text": [
      "HDFCBANK - 4 files\n",
      "\t1009 records\n",
      "\t2020-01-01 to 2023-12-29\n",
      "\tSaved to '../data/NSE/HDFCBANK/consolidated.parquet'\n",
      "ITBEES - 4 files\n",
      "\t871 records\n",
      "\t2020-07-01 to 2023-12-29\n",
      "\tSaved to '../data/NSE/ITBEES/consolidated.parquet'\n"
     ]
    }
   ],
   "source": [
    "su.consolidate_all_stock_data(cnst.NSE_DATA_DIR)"
   ]
  },
  {
   "cell_type": "code",
   "execution_count": null,
   "metadata": {},
   "outputs": [],
   "source": []
  }
 ],
 "metadata": {
  "kernelspec": {
   "display_name": "Python 3",
   "language": "python",
   "name": "python3"
  },
  "language_info": {
   "codemirror_mode": {
    "name": "ipython",
    "version": 3
   },
   "file_extension": ".py",
   "mimetype": "text/x-python",
   "name": "python",
   "nbconvert_exporter": "python",
   "pygments_lexer": "ipython3",
   "version": "3.11.6"
  }
 },
 "nbformat": 4,
 "nbformat_minor": 2
}
